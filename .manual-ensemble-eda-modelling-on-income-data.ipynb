{
 "cells": [
  {
   "cell_type": "code",
   "execution_count": 1,
   "metadata": {
    "_cell_guid": "b1076dfc-b9ad-4769-8c92-a6c4dae69d19",
    "_uuid": "8f2839f25d086af736a60e9eeb907d3b93b6e0e5",
    "execution": {
     "iopub.execute_input": "2020-10-23T17:08:33.731573Z",
     "iopub.status.busy": "2020-10-23T17:08:33.730816Z",
     "iopub.status.idle": "2020-10-23T17:08:33.738358Z",
     "shell.execute_reply": "2020-10-23T17:08:33.737341Z"
    },
    "papermill": {
     "duration": 0.061634,
     "end_time": "2020-10-23T17:08:33.738521",
     "exception": false,
     "start_time": "2020-10-23T17:08:33.676887",
     "status": "completed"
    },
    "tags": []
   },
   "outputs": [],
   "source": [
    "# This Python 3 environment comes with many helpful analytics libraries installed\n",
    "# It is defined by the kaggle/python Docker image: https://github.com/kaggle/docker-python\n",
    "# For example, here's several helpful packages to load\n",
    "\n",
    "import numpy as np # linear algebra\n",
    "import pandas as pd # data processing, CSV file I/O (e.g. pd.read_csv)\n",
    "\n",
    "\n",
    "\n",
    "\n"
   ]
  },
  {
   "cell_type": "code",
   "execution_count": 2,
   "metadata": {
    "_cell_guid": "79c7e3d0-c299-4dcb-8224-4455121ee9b0",
    "_uuid": "d629ff2d2480ee46fbb7e2d37f6b5fab8052498a",
    "execution": {
     "iopub.execute_input": "2020-10-23T17:08:33.839193Z",
     "iopub.status.busy": "2020-10-23T17:08:33.838196Z",
     "iopub.status.idle": "2020-10-23T17:08:34.004096Z",
     "shell.execute_reply": "2020-10-23T17:08:34.003316Z"
    },
    "papermill": {
     "duration": 0.220893,
     "end_time": "2020-10-23T17:08:34.004235",
     "exception": false,
     "start_time": "2020-10-23T17:08:33.783342",
     "status": "completed"
    },
    "tags": []
   },
   "outputs": [
    {
     "data": {
      "text/plain": [
       "(43957, 15)"
      ]
     },
     "execution_count": 2,
     "metadata": {},
     "output_type": "execute_result"
    }
   ],
   "source": [
    "df = pd.read_csv('train.csv')\n",
    "df.shape"
   ]
  },
  {
   "cell_type": "code",
   "execution_count": 3,
   "metadata": {
    "execution": {
     "iopub.execute_input": "2020-10-23T17:08:34.119653Z",
     "iopub.status.busy": "2020-10-23T17:08:34.118844Z",
     "iopub.status.idle": "2020-10-23T17:08:34.135254Z",
     "shell.execute_reply": "2020-10-23T17:08:34.134453Z"
    },
    "papermill": {
     "duration": 0.087612,
     "end_time": "2020-10-23T17:08:34.135414",
     "exception": false,
     "start_time": "2020-10-23T17:08:34.047802",
     "status": "completed"
    },
    "tags": []
   },
   "outputs": [
    {
     "data": {
      "text/html": [
       "<div>\n",
       "<style scoped>\n",
       "    .dataframe tbody tr th:only-of-type {\n",
       "        vertical-align: middle;\n",
       "    }\n",
       "\n",
       "    .dataframe tbody tr th {\n",
       "        vertical-align: top;\n",
       "    }\n",
       "\n",
       "    .dataframe thead th {\n",
       "        text-align: right;\n",
       "    }\n",
       "</style>\n",
       "<table border=\"1\" class=\"dataframe\">\n",
       "  <thead>\n",
       "    <tr style=\"text-align: right;\">\n",
       "      <th></th>\n",
       "      <th>age</th>\n",
       "      <th>workclass</th>\n",
       "      <th>fnlwgt</th>\n",
       "      <th>education</th>\n",
       "      <th>educational-num</th>\n",
       "      <th>marital-status</th>\n",
       "      <th>occupation</th>\n",
       "      <th>relationship</th>\n",
       "      <th>race</th>\n",
       "      <th>gender</th>\n",
       "      <th>capital-gain</th>\n",
       "      <th>capital-loss</th>\n",
       "      <th>hours-per-week</th>\n",
       "      <th>native-country</th>\n",
       "      <th>income_&gt;50K</th>\n",
       "    </tr>\n",
       "  </thead>\n",
       "  <tbody>\n",
       "    <tr>\n",
       "      <th>0</th>\n",
       "      <td>67</td>\n",
       "      <td>Private</td>\n",
       "      <td>366425</td>\n",
       "      <td>Doctorate</td>\n",
       "      <td>16</td>\n",
       "      <td>Divorced</td>\n",
       "      <td>Exec-managerial</td>\n",
       "      <td>Not-in-family</td>\n",
       "      <td>White</td>\n",
       "      <td>Male</td>\n",
       "      <td>99999</td>\n",
       "      <td>0</td>\n",
       "      <td>60</td>\n",
       "      <td>United-States</td>\n",
       "      <td>1</td>\n",
       "    </tr>\n",
       "    <tr>\n",
       "      <th>1</th>\n",
       "      <td>17</td>\n",
       "      <td>Private</td>\n",
       "      <td>244602</td>\n",
       "      <td>12th</td>\n",
       "      <td>8</td>\n",
       "      <td>Never-married</td>\n",
       "      <td>Other-service</td>\n",
       "      <td>Own-child</td>\n",
       "      <td>White</td>\n",
       "      <td>Male</td>\n",
       "      <td>0</td>\n",
       "      <td>0</td>\n",
       "      <td>15</td>\n",
       "      <td>United-States</td>\n",
       "      <td>0</td>\n",
       "    </tr>\n",
       "    <tr>\n",
       "      <th>2</th>\n",
       "      <td>31</td>\n",
       "      <td>Private</td>\n",
       "      <td>174201</td>\n",
       "      <td>Bachelors</td>\n",
       "      <td>13</td>\n",
       "      <td>Married-civ-spouse</td>\n",
       "      <td>Exec-managerial</td>\n",
       "      <td>Husband</td>\n",
       "      <td>White</td>\n",
       "      <td>Male</td>\n",
       "      <td>0</td>\n",
       "      <td>0</td>\n",
       "      <td>40</td>\n",
       "      <td>United-States</td>\n",
       "      <td>1</td>\n",
       "    </tr>\n",
       "    <tr>\n",
       "      <th>3</th>\n",
       "      <td>58</td>\n",
       "      <td>State-gov</td>\n",
       "      <td>110199</td>\n",
       "      <td>7th-8th</td>\n",
       "      <td>4</td>\n",
       "      <td>Married-civ-spouse</td>\n",
       "      <td>Transport-moving</td>\n",
       "      <td>Husband</td>\n",
       "      <td>White</td>\n",
       "      <td>Male</td>\n",
       "      <td>0</td>\n",
       "      <td>0</td>\n",
       "      <td>40</td>\n",
       "      <td>United-States</td>\n",
       "      <td>0</td>\n",
       "    </tr>\n",
       "    <tr>\n",
       "      <th>4</th>\n",
       "      <td>25</td>\n",
       "      <td>State-gov</td>\n",
       "      <td>149248</td>\n",
       "      <td>Some-college</td>\n",
       "      <td>10</td>\n",
       "      <td>Never-married</td>\n",
       "      <td>Other-service</td>\n",
       "      <td>Not-in-family</td>\n",
       "      <td>Black</td>\n",
       "      <td>Male</td>\n",
       "      <td>0</td>\n",
       "      <td>0</td>\n",
       "      <td>40</td>\n",
       "      <td>United-States</td>\n",
       "      <td>0</td>\n",
       "    </tr>\n",
       "  </tbody>\n",
       "</table>\n",
       "</div>"
      ],
      "text/plain": [
       "   age  workclass  fnlwgt     education  educational-num      marital-status  \\\n",
       "0   67    Private  366425     Doctorate               16            Divorced   \n",
       "1   17    Private  244602          12th                8       Never-married   \n",
       "2   31    Private  174201     Bachelors               13  Married-civ-spouse   \n",
       "3   58  State-gov  110199       7th-8th                4  Married-civ-spouse   \n",
       "4   25  State-gov  149248  Some-college               10       Never-married   \n",
       "\n",
       "         occupation   relationship   race gender  capital-gain  capital-loss  \\\n",
       "0   Exec-managerial  Not-in-family  White   Male         99999             0   \n",
       "1     Other-service      Own-child  White   Male             0             0   \n",
       "2   Exec-managerial        Husband  White   Male             0             0   \n",
       "3  Transport-moving        Husband  White   Male             0             0   \n",
       "4     Other-service  Not-in-family  Black   Male             0             0   \n",
       "\n",
       "   hours-per-week native-country  income_>50K  \n",
       "0              60  United-States            1  \n",
       "1              15  United-States            0  \n",
       "2              40  United-States            1  \n",
       "3              40  United-States            0  \n",
       "4              40  United-States            0  "
      ]
     },
     "execution_count": 3,
     "metadata": {},
     "output_type": "execute_result"
    }
   ],
   "source": [
    "df.head()"
   ]
  },
  {
   "cell_type": "code",
   "execution_count": 4,
   "metadata": {
    "execution": {
     "iopub.execute_input": "2020-10-23T17:08:34.252948Z",
     "iopub.status.busy": "2020-10-23T17:08:34.251871Z",
     "iopub.status.idle": "2020-10-23T17:08:34.309835Z",
     "shell.execute_reply": "2020-10-23T17:08:34.309136Z"
    },
    "papermill": {
     "duration": 0.119964,
     "end_time": "2020-10-23T17:08:34.309970",
     "exception": false,
     "start_time": "2020-10-23T17:08:34.190006",
     "status": "completed"
    },
    "tags": []
   },
   "outputs": [
    {
     "name": "stdout",
     "output_type": "stream",
     "text": [
      "Name of col is: age == number of unique vals is: 74 == data type is: int64\n",
      "Name of col is: workclass == number of unique vals is: 8 == data type is: object\n",
      "Name of col is: fnlwgt == number of unique vals is: 26646 == data type is: int64\n",
      "Name of col is: education == number of unique vals is: 16 == data type is: object\n",
      "Name of col is: educational-num == number of unique vals is: 16 == data type is: int64\n",
      "Name of col is: marital-status == number of unique vals is: 7 == data type is: object\n",
      "Name of col is: occupation == number of unique vals is: 14 == data type is: object\n",
      "Name of col is: relationship == number of unique vals is: 6 == data type is: object\n",
      "Name of col is: race == number of unique vals is: 5 == data type is: object\n",
      "Name of col is: gender == number of unique vals is: 2 == data type is: object\n",
      "Name of col is: capital-gain == number of unique vals is: 122 == data type is: int64\n",
      "Name of col is: capital-loss == number of unique vals is: 97 == data type is: int64\n",
      "Name of col is: hours-per-week == number of unique vals is: 94 == data type is: int64\n",
      "Name of col is: native-country == number of unique vals is: 41 == data type is: object\n",
      "Name of col is: income_>50K == number of unique vals is: 2 == data type is: int64\n"
     ]
    }
   ],
   "source": [
    "for col in list(df.columns):\n",
    "    print(f\"Name of col is: {col} == number of unique vals is: {str(df[col].nunique())} == data type is: {str(df[col].dtype)}\")"
   ]
  },
  {
   "cell_type": "code",
   "execution_count": 5,
   "metadata": {
    "execution": {
     "iopub.execute_input": "2020-10-23T17:08:34.421203Z",
     "iopub.status.busy": "2020-10-23T17:08:34.420117Z",
     "iopub.status.idle": "2020-10-23T17:08:34.425182Z",
     "shell.execute_reply": "2020-10-23T17:08:34.424217Z"
    },
    "papermill": {
     "duration": 0.064067,
     "end_time": "2020-10-23T17:08:34.425341",
     "exception": false,
     "start_time": "2020-10-23T17:08:34.361274",
     "status": "completed"
    },
    "tags": []
   },
   "outputs": [
    {
     "data": {
      "text/plain": [
       "['workclass',\n",
       " 'education',\n",
       " 'marital-status',\n",
       " 'occupation',\n",
       " 'relationship',\n",
       " 'race',\n",
       " 'gender',\n",
       " 'native-country']"
      ]
     },
     "execution_count": 5,
     "metadata": {},
     "output_type": "execute_result"
    }
   ],
   "source": [
    "cat_columns = [ col for col in list(df.columns) if df[col].dtype =='object']\n",
    "cat_columns"
   ]
  },
  {
   "cell_type": "code",
   "execution_count": 6,
   "metadata": {
    "execution": {
     "iopub.execute_input": "2020-10-23T17:08:34.533620Z",
     "iopub.status.busy": "2020-10-23T17:08:34.532742Z",
     "iopub.status.idle": "2020-10-23T17:08:35.928257Z",
     "shell.execute_reply": "2020-10-23T17:08:35.927341Z"
    },
    "papermill": {
     "duration": 1.450358,
     "end_time": "2020-10-23T17:08:35.928434",
     "exception": false,
     "start_time": "2020-10-23T17:08:34.478076",
     "status": "completed"
    },
    "tags": []
   },
   "outputs": [
    {
     "data": {
      "image/png": "[encoded data removed]",
      "text/plain": [
       "<Figure size 1080x720 with 1 Axes>"
      ]
     },
     "metadata": {
      "needs_background": "light"
     },
     "output_type": "display_data"
    }
   ],
   "source": [
    "## show the countplot of Workclass variable\n",
    "import matplotlib.pyplot as plt\n",
    "import seaborn as sns\n",
    "plt.figure(figsize=(15,10))\n",
    "sns.countplot(data = df, x = cat_columns[0])\n",
    "plt.show()\n"
   ]
  },
  {
   "cell_type": "code",
   "execution_count": 7,
   "metadata": {
    "execution": {
     "iopub.execute_input": "2020-10-23T17:08:36.042963Z",
     "iopub.status.busy": "2020-10-23T17:08:36.041884Z",
     "iopub.status.idle": "2020-10-23T17:08:36.332379Z",
     "shell.execute_reply": "2020-10-23T17:08:36.333131Z"
    },
    "papermill": {
     "duration": 0.352402,
     "end_time": "2020-10-23T17:08:36.333304",
     "exception": false,
     "start_time": "2020-10-23T17:08:35.980902",
     "status": "completed"
    },
    "tags": []
   },
   "outputs": [
    {
     "data": {
      "image/png": "[encoded data removed]",
      "text/plain": [
       "<Figure size 1440x720 with 1 Axes>"
      ]
     },
     "metadata": {
      "needs_background": "light"
     },
     "output_type": "display_data"
    }
   ],
   "source": [
    "## show the countplot of Education variable\n",
    "plt.figure(figsize=(20,10))\n",
    "sns.countplot(data = df, x = cat_columns[1])\n",
    "plt.show()"
   ]
  },
  {
   "cell_type": "code",
   "execution_count": 8,
   "metadata": {
    "execution": {
     "iopub.execute_input": "2020-10-23T17:08:36.444880Z",
     "iopub.status.busy": "2020-10-23T17:08:36.444077Z",
     "iopub.status.idle": "2020-10-23T17:08:36.669042Z",
     "shell.execute_reply": "2020-10-23T17:08:36.668261Z"
    },
    "papermill": {
     "duration": 0.285455,
     "end_time": "2020-10-23T17:08:36.669187",
     "exception": false,
     "start_time": "2020-10-23T17:08:36.383732",
     "status": "completed"
    },
    "tags": []
   },
   "outputs": [
    {
     "data": {
      "text/plain": [
       "<AxesSubplot:xlabel='marital-status', ylabel='count'>"
      ]
     },
     "execution_count": 8,
     "metadata": {},
     "output_type": "execute_result"
    },
    {
     "data": {
      "image/png": "[encoded data removed]",
      "text/plain": [
       "<Figure size 1080x720 with 1 Axes>"
      ]
     },
     "metadata": {
      "needs_background": "light"
     },
     "output_type": "display_data"
    }
   ],
   "source": [
    "plt.figure(figsize=(15,10))\n",
    "sns.countplot(data = df, x = cat_columns[2])"
   ]
  },
  {
   "cell_type": "code",
   "execution_count": 9,
   "metadata": {
    "execution": {
     "iopub.execute_input": "2020-10-23T17:08:36.791494Z",
     "iopub.status.busy": "2020-10-23T17:08:36.779595Z",
     "iopub.status.idle": "2020-10-23T17:08:37.062317Z",
     "shell.execute_reply": "2020-10-23T17:08:37.061649Z"
    },
    "papermill": {
     "duration": 0.341236,
     "end_time": "2020-10-23T17:08:37.062453",
     "exception": false,
     "start_time": "2020-10-23T17:08:36.721217",
     "status": "completed"
    },
    "tags": []
   },
   "outputs": [
    {
     "data": {
      "text/plain": [
       "<AxesSubplot:xlabel='occupation', ylabel='count'>"
      ]
     },
     "execution_count": 9,
     "metadata": {},
     "output_type": "execute_result"
    },
    {
     "data": {
      "image/png": "[encoded data removed]",
      "text/plain": [
       "<Figure size 1440x720 with 1 Axes>"
      ]
     },
     "metadata": {
      "needs_background": "light"
     },
     "output_type": "display_data"
    }
   ],
   "source": [
    "plt.figure(figsize=(20,10))\n",
    "sns.countplot(data = df, x = cat_columns[3])"
   ]
  },
  {
   "cell_type": "code",
   "execution_count": 10,
   "metadata": {
    "execution": {
     "iopub.execute_input": "2020-10-23T17:08:37.178152Z",
     "iopub.status.busy": "2020-10-23T17:08:37.174228Z",
     "iopub.status.idle": "2020-10-23T17:08:37.374645Z",
     "shell.execute_reply": "2020-10-23T17:08:37.373847Z"
    },
    "papermill": {
     "duration": 0.259506,
     "end_time": "2020-10-23T17:08:37.374807",
     "exception": false,
     "start_time": "2020-10-23T17:08:37.115301",
     "status": "completed"
    },
    "tags": []
   },
   "outputs": [
    {
     "data": {
      "text/plain": [
       "<AxesSubplot:xlabel='relationship', ylabel='count'>"
      ]
     },
     "execution_count": 10,
     "metadata": {},
     "output_type": "execute_result"
    },
    {
     "data": {
      "image/png": "[encoded data removed]",
      "text/plain": [
       "<Figure size 720x720 with 1 Axes>"
      ]
     },
     "metadata": {
      "needs_background": "light"
     },
     "output_type": "display_data"
    }
   ],
   "source": [
    "plt.figure(figsize=(10,10))\n",
    "sns.countplot(data = df, x = cat_columns[4])"
   ]
  },
  {
   "cell_type": "code",
   "execution_count": 11,
   "metadata": {
    "execution": {
     "iopub.execute_input": "2020-10-23T17:08:37.494153Z",
     "iopub.status.busy": "2020-10-23T17:08:37.493383Z",
     "iopub.status.idle": "2020-10-23T17:08:37.761451Z",
     "shell.execute_reply": "2020-10-23T17:08:37.760637Z"
    },
    "papermill": {
     "duration": 0.332162,
     "end_time": "2020-10-23T17:08:37.761608",
     "exception": false,
     "start_time": "2020-10-23T17:08:37.429446",
     "status": "completed"
    },
    "tags": []
   },
   "outputs": [
    {
     "data": {
      "text/plain": [
       "<AxesSubplot:xlabel='race', ylabel='count'>"
      ]
     },
     "execution_count": 11,
     "metadata": {},
     "output_type": "execute_result"
    },
    {
     "data": {
      "image/png": "[encoded data removed]",
      "text/plain": [
       "<Figure size 720x720 with 1 Axes>"
      ]
     },
     "metadata": {
      "needs_background": "light"
     },
     "output_type": "display_data"
    }
   ],
   "source": [
    "plt.figure(figsize=(10,10))\n",
    "sns.countplot(data = df, x = cat_columns[5])"
   ]
  },
  {
   "cell_type": "code",
   "execution_count": 12,
   "metadata": {
    "execution": {
     "iopub.execute_input": "2020-10-23T17:08:37.884056Z",
     "iopub.status.busy": "2020-10-23T17:08:37.883104Z",
     "iopub.status.idle": "2020-10-23T17:08:38.038117Z",
     "shell.execute_reply": "2020-10-23T17:08:38.038709Z"
    },
    "papermill": {
     "duration": 0.221289,
     "end_time": "2020-10-23T17:08:38.038883",
     "exception": false,
     "start_time": "2020-10-23T17:08:37.817594",
     "status": "completed"
    },
    "tags": []
   },
   "outputs": [
    {
     "data": {
      "text/plain": [
       "<AxesSubplot:xlabel='gender', ylabel='count'>"
      ]
     },
     "execution_count": 12,
     "metadata": {},
     "output_type": "execute_result"
    },
    {
     "data": {
      "image/png": "[encoded data removed]",
      "text/plain": [
       "<Figure size 576x576 with 1 Axes>"
      ]
     },
     "metadata": {
      "needs_background": "light"
     },
     "output_type": "display_data"
    }
   ],
   "source": [
    "plt.figure(figsize=(8,8))\n",
    "sns.countplot(data = df, x = cat_columns[6])"
   ]
  },
  {
   "cell_type": "code",
   "execution_count": 13,
   "metadata": {
    "execution": {
     "iopub.execute_input": "2020-10-23T17:08:38.179689Z",
     "iopub.status.busy": "2020-10-23T17:08:38.178301Z",
     "iopub.status.idle": "2020-10-23T17:08:38.436794Z",
     "shell.execute_reply": "2020-10-23T17:08:38.436143Z"
    },
    "papermill": {
     "duration": 0.339411,
     "end_time": "2020-10-23T17:08:38.436919",
     "exception": false,
     "start_time": "2020-10-23T17:08:38.097508",
     "status": "completed"
    },
    "tags": []
   },
   "outputs": [
    {
     "data": {
      "text/plain": [
       "<AxesSubplot:xlabel='native-country', ylabel='count'>"
      ]
     },
     "execution_count": 13,
     "metadata": {},
     "output_type": "execute_result"
    },
    {
     "data": {
      "image/png": "[encoded data removed]",
      "text/plain": [
       "<Figure size 1080x720 with 1 Axes>"
      ]
     },
     "metadata": {
      "needs_background": "light"
     },
     "output_type": "display_data"
    }
   ],
   "source": [
    "plt.figure(figsize=(15,10))\n",
    "# selecting top 10 countries \n",
    "top_10 = list(df[cat_columns[7]].value_counts().head(10).index)\n",
    "sns.countplot(data = df.loc[df[cat_columns[7]].isin(top_10)], x = cat_columns[7])"
   ]
  },
  {
   "cell_type": "code",
   "execution_count": 14,
   "metadata": {
    "execution": {
     "iopub.execute_input": "2020-10-23T17:08:38.571129Z",
     "iopub.status.busy": "2020-10-23T17:08:38.570322Z",
     "iopub.status.idle": "2020-10-23T17:08:38.588577Z",
     "shell.execute_reply": "2020-10-23T17:08:38.589166Z"
    },
    "papermill": {
     "duration": 0.092578,
     "end_time": "2020-10-23T17:08:38.589368",
     "exception": false,
     "start_time": "2020-10-23T17:08:38.496790",
     "status": "completed"
    },
    "tags": []
   },
   "outputs": [],
   "source": [
    "# Lets drop all Country Except US\n",
    "\n",
    "df = df[df['native-country']=='United-States']\n",
    "\n",
    "# drop 'native-country' column from cat_columns list \n",
    "df= df.drop('native-country', axis = 1)\n",
    "cat_columns.remove('native-country')"
   ]
  },
  {
   "cell_type": "code",
   "execution_count": 15,
   "metadata": {
    "execution": {
     "iopub.execute_input": "2020-10-23T17:08:38.713896Z",
     "iopub.status.busy": "2020-10-23T17:08:38.712957Z",
     "iopub.status.idle": "2020-10-23T17:08:38.717434Z",
     "shell.execute_reply": "2020-10-23T17:08:38.716655Z"
    },
    "papermill": {
     "duration": 0.068742,
     "end_time": "2020-10-23T17:08:38.717577",
     "exception": false,
     "start_time": "2020-10-23T17:08:38.648835",
     "status": "completed"
    },
    "tags": []
   },
   "outputs": [
    {
     "data": {
      "text/plain": [
       "['workclass',\n",
       " 'education',\n",
       " 'marital-status',\n",
       " 'occupation',\n",
       " 'relationship',\n",
       " 'race',\n",
       " 'gender']"
      ]
     },
     "execution_count": 15,
     "metadata": {},
     "output_type": "execute_result"
    }
   ],
   "source": [
    "#list of categorical \n",
    "cat_columns"
   ]
  },
  {
   "cell_type": "code",
   "execution_count": 16,
   "metadata": {
    "execution": {
     "iopub.execute_input": "2020-10-23T17:08:38.847462Z",
     "iopub.status.busy": "2020-10-23T17:08:38.846308Z",
     "iopub.status.idle": "2020-10-23T17:08:38.850916Z",
     "shell.execute_reply": "2020-10-23T17:08:38.850143Z"
    },
    "papermill": {
     "duration": 0.072945,
     "end_time": "2020-10-23T17:08:38.851045",
     "exception": false,
     "start_time": "2020-10-23T17:08:38.778100",
     "status": "completed"
    },
    "tags": []
   },
   "outputs": [
    {
     "data": {
      "text/plain": [
       "['age',\n",
       " 'fnlwgt',\n",
       " 'educational-num',\n",
       " 'capital-gain',\n",
       " 'capital-loss',\n",
       " 'hours-per-week']"
      ]
     },
     "execution_count": 16,
     "metadata": {},
     "output_type": "execute_result"
    }
   ],
   "source": [
    "num_cols = [ col for col in list(df.columns) if df[col].dtype !='object'  and  col != 'income_>50K']\n",
    "num_cols\n"
   ]
  },
  {
   "cell_type": "code",
   "execution_count": 17,
   "metadata": {
    "execution": {
     "iopub.execute_input": "2020-10-23T17:08:38.981283Z",
     "iopub.status.busy": "2020-10-23T17:08:38.980489Z",
     "iopub.status.idle": "2020-10-23T17:08:39.045649Z",
     "shell.execute_reply": "2020-10-23T17:08:39.044934Z"
    },
    "papermill": {
     "duration": 0.133061,
     "end_time": "2020-10-23T17:08:39.045814",
     "exception": false,
     "start_time": "2020-10-23T17:08:38.912753",
     "status": "completed"
    },
    "tags": []
   },
   "outputs": [
    {
     "data": {
      "text/plain": [
       "(39429, 58)"
      ]
     },
     "execution_count": 17,
     "metadata": {},
     "output_type": "execute_result"
    }
   ],
   "source": [
    "df_dummy = pd.get_dummies(df[cat_columns])\n",
    "df_dummy.shape"
   ]
  },
  {
   "cell_type": "code",
   "execution_count": 18,
   "metadata": {
    "execution": {
     "iopub.execute_input": "2020-10-23T17:08:39.175779Z",
     "iopub.status.busy": "2020-10-23T17:08:39.174466Z",
     "iopub.status.idle": "2020-10-23T17:08:39.178723Z",
     "shell.execute_reply": "2020-10-23T17:08:39.179336Z"
    },
    "papermill": {
     "duration": 0.072665,
     "end_time": "2020-10-23T17:08:39.179521",
     "exception": false,
     "start_time": "2020-10-23T17:08:39.106856",
     "status": "completed"
    },
    "tags": []
   },
   "outputs": [
    {
     "name": "stdout",
     "output_type": "stream",
     "text": [
      "['workclass_Federal-gov', 'workclass_Local-gov', 'workclass_Never-worked', 'workclass_Private', 'workclass_Self-emp-inc', 'workclass_Self-emp-not-inc', 'workclass_State-gov', 'workclass_Without-pay', 'education_10th', 'education_11th', 'education_12th', 'education_1st-4th', 'education_5th-6th', 'education_7th-8th', 'education_9th', 'education_Assoc-acdm', 'education_Assoc-voc', 'education_Bachelors', 'education_Doctorate', 'education_HS-grad', 'education_Masters', 'education_Preschool', 'education_Prof-school', 'education_Some-college', 'marital-status_Divorced', 'marital-status_Married-AF-spouse', 'marital-status_Married-civ-spouse', 'marital-status_Married-spouse-absent', 'marital-status_Never-married', 'marital-status_Separated', 'marital-status_Widowed', 'occupation_Adm-clerical', 'occupation_Armed-Forces', 'occupation_Craft-repair', 'occupation_Exec-managerial', 'occupation_Farming-fishing', 'occupation_Handlers-cleaners', 'occupation_Machine-op-inspct', 'occupation_Other-service', 'occupation_Priv-house-serv', 'occupation_Prof-specialty', 'occupation_Protective-serv', 'occupation_Sales', 'occupation_Tech-support', 'occupation_Transport-moving', 'relationship_Husband', 'relationship_Not-in-family', 'relationship_Other-relative', 'relationship_Own-child', 'relationship_Unmarried', 'relationship_Wife', 'race_Amer-Indian-Eskimo', 'race_Asian-Pac-Islander', 'race_Black', 'race_Other', 'race_White', 'gender_Female', 'gender_Male']\n"
     ]
    }
   ],
   "source": [
    "print(list(df_dummy.columns))"
   ]
  },
  {
   "cell_type": "code",
   "execution_count": 19,
   "metadata": {
    "execution": {
     "iopub.execute_input": "2020-10-23T17:08:39.312792Z",
     "iopub.status.busy": "2020-10-23T17:08:39.311991Z",
     "iopub.status.idle": "2020-10-23T17:08:39.325533Z",
     "shell.execute_reply": "2020-10-23T17:08:39.324660Z"
    },
    "papermill": {
     "duration": 0.084118,
     "end_time": "2020-10-23T17:08:39.325692",
     "exception": false,
     "start_time": "2020-10-23T17:08:39.241574",
     "status": "completed"
    },
    "tags": []
   },
   "outputs": [
    {
     "data": {
      "text/plain": [
       "(39429, 65)"
      ]
     },
     "execution_count": 19,
     "metadata": {},
     "output_type": "execute_result"
    }
   ],
   "source": [
    "#final_dataset\n",
    "\n",
    "final_df = pd.DataFrame()\n",
    "final_df = pd.concat([df_dummy , df[num_cols] , df['income_>50K'] ] , axis = 1)\n",
    "final_df.shape"
   ]
  },
  {
   "cell_type": "code",
   "execution_count": 20,
   "metadata": {
    "execution": {
     "iopub.execute_input": "2020-10-23T17:08:39.459156Z",
     "iopub.status.busy": "2020-10-23T17:08:39.458315Z",
     "iopub.status.idle": "2020-10-23T17:08:39.462750Z",
     "shell.execute_reply": "2020-10-23T17:08:39.462011Z"
    },
    "papermill": {
     "duration": 0.074034,
     "end_time": "2020-10-23T17:08:39.462876",
     "exception": false,
     "start_time": "2020-10-23T17:08:39.388842",
     "status": "completed"
    },
    "tags": []
   },
   "outputs": [
    {
     "data": {
      "text/plain": [
       "['workclass_Federal-gov',\n",
       " 'workclass_Local-gov',\n",
       " 'workclass_Never-worked',\n",
       " 'workclass_Private',\n",
       " 'workclass_Self-emp-inc',\n",
       " 'workclass_Self-emp-not-inc',\n",
       " 'workclass_State-gov',\n",
       " 'workclass_Without-pay',\n",
       " 'education_10th',\n",
       " 'education_11th',\n",
       " 'education_12th',\n",
       " 'education_1st-4th',\n",
       " 'education_5th-6th',\n",
       " 'education_7th-8th',\n",
       " 'education_9th',\n",
       " 'education_Assoc-acdm',\n",
       " 'education_Assoc-voc',\n",
       " 'education_Bachelors',\n",
       " 'education_Doctorate',\n",
       " 'education_HS-grad',\n",
       " 'education_Masters',\n",
       " 'education_Preschool',\n",
       " 'education_Prof-school',\n",
       " 'education_Some-college',\n",
       " 'marital-status_Divorced',\n",
       " 'marital-status_Married-AF-spouse',\n",
       " 'marital-status_Married-civ-spouse',\n",
       " 'marital-status_Married-spouse-absent',\n",
       " 'marital-status_Never-married',\n",
       " 'marital-status_Separated',\n",
       " 'marital-status_Widowed',\n",
       " 'occupation_Adm-clerical',\n",
       " 'occupation_Armed-Forces',\n",
       " 'occupation_Craft-repair',\n",
       " 'occupation_Exec-managerial',\n",
       " 'occupation_Farming-fishing',\n",
       " 'occupation_Handlers-cleaners',\n",
       " 'occupation_Machine-op-inspct',\n",
       " 'occupation_Other-service',\n",
       " 'occupation_Priv-house-serv',\n",
       " 'occupation_Prof-specialty',\n",
       " 'occupation_Protective-serv',\n",
       " 'occupation_Sales',\n",
       " 'occupation_Tech-support',\n",
       " 'occupation_Transport-moving',\n",
       " 'relationship_Husband',\n",
       " 'relationship_Not-in-family',\n",
       " 'relationship_Other-relative',\n",
       " 'relationship_Own-child',\n",
       " 'relationship_Unmarried',\n",
       " 'relationship_Wife',\n",
       " 'race_Amer-Indian-Eskimo',\n",
       " 'race_Asian-Pac-Islander',\n",
       " 'race_Black',\n",
       " 'race_Other',\n",
       " 'race_White',\n",
       " 'gender_Female',\n",
       " 'gender_Male',\n",
       " 'age',\n",
       " 'fnlwgt',\n",
       " 'educational-num',\n",
       " 'capital-gain',\n",
       " 'capital-loss',\n",
       " 'hours-per-week',\n",
       " 'income_>50K']"
      ]
     },
     "execution_count": 20,
     "metadata": {},
     "output_type": "execute_result"
    }
   ],
   "source": [
    "list(final_df.columns)"
   ]
  },
  {
   "cell_type": "code",
   "execution_count": 21,
   "metadata": {
    "execution": {
     "iopub.execute_input": "2020-10-23T17:08:39.596692Z",
     "iopub.status.busy": "2020-10-23T17:08:39.595911Z",
     "iopub.status.idle": "2020-10-23T17:08:39.631492Z",
     "shell.execute_reply": "2020-10-23T17:08:39.632086Z"
    },
    "papermill": {
     "duration": 0.106387,
     "end_time": "2020-10-23T17:08:39.632264",
     "exception": false,
     "start_time": "2020-10-23T17:08:39.525877",
     "status": "completed"
    },
    "tags": []
   },
   "outputs": [
    {
     "name": "stdout",
     "output_type": "stream",
     "text": [
      "<class 'pandas.core.frame.DataFrame'>\n",
      "Int64Index: 39429 entries, 0 to 43956\n",
      "Data columns (total 65 columns):\n",
      " #   Column                                Non-Null Count  Dtype\n",
      "---  ------                                --------------  -----\n",
      " 0   workclass_Federal-gov                 39429 non-null  uint8\n",
      " 1   workclass_Local-gov                   39429 non-null  uint8\n",
      " 2   workclass_Never-worked                39429 non-null  uint8\n",
      " 3   workclass_Private                     39429 non-null  uint8\n",
      " 4   workclass_Self-emp-inc                39429 non-null  uint8\n",
      " 5   workclass_Self-emp-not-inc            39429 non-null  uint8\n",
      " 6   workclass_State-gov                   39429 non-null  uint8\n",
      " 7   workclass_Without-pay                 39429 non-null  uint8\n",
      " 8   education_10th                        39429 non-null  uint8\n",
      " 9   education_11th                        39429 non-null  uint8\n",
      " 10  education_12th                        39429 non-null  uint8\n",
      " 11  education_1st-4th                     39429 non-null  uint8\n",
      " 12  education_5th-6th                     39429 non-null  uint8\n",
      " 13  education_7th-8th                     39429 non-null  uint8\n",
      " 14  education_9th                         39429 non-null  uint8\n",
      " 15  education_Assoc-acdm                  39429 non-null  uint8\n",
      " 16  education_Assoc-voc                   39429 non-null  uint8\n",
      " 17  education_Bachelors                   39429 non-null  uint8\n",
      " 18  education_Doctorate                   39429 non-null  uint8\n",
      " 19  education_HS-grad                     39429 non-null  uint8\n",
      " 20  education_Masters                     39429 non-null  uint8\n",
      " 21  education_Preschool                   39429 non-null  uint8\n",
      " 22  education_Prof-school                 39429 non-null  uint8\n",
      " 23  education_Some-college                39429 non-null  uint8\n",
      " 24  marital-status_Divorced               39429 non-null  uint8\n",
      " 25  marital-status_Married-AF-spouse      39429 non-null  uint8\n",
      " 26  marital-status_Married-civ-spouse     39429 non-null  uint8\n",
      " 27  marital-status_Married-spouse-absent  39429 non-null  uint8\n",
      " 28  marital-status_Never-married          39429 non-null  uint8\n",
      " 29  marital-status_Separated              39429 non-null  uint8\n",
      " 30  marital-status_Widowed                39429 non-null  uint8\n",
      " 31  occupation_Adm-clerical               39429 non-null  uint8\n",
      " 32  occupation_Armed-Forces               39429 non-null  uint8\n",
      " 33  occupation_Craft-repair               39429 non-null  uint8\n",
      " 34  occupation_Exec-managerial            39429 non-null  uint8\n",
      " 35  occupation_Farming-fishing            39429 non-null  uint8\n",
      " 36  occupation_Handlers-cleaners          39429 non-null  uint8\n",
      " 37  occupation_Machine-op-inspct          39429 non-null  uint8\n",
      " 38  occupation_Other-service              39429 non-null  uint8\n",
      " 39  occupation_Priv-house-serv            39429 non-null  uint8\n",
      " 40  occupation_Prof-specialty             39429 non-null  uint8\n",
      " 41  occupation_Protective-serv            39429 non-null  uint8\n",
      " 42  occupation_Sales                      39429 non-null  uint8\n",
      " 43  occupation_Tech-support               39429 non-null  uint8\n",
      " 44  occupation_Transport-moving           39429 non-null  uint8\n",
      " 45  relationship_Husband                  39429 non-null  uint8\n",
      " 46  relationship_Not-in-family            39429 non-null  uint8\n",
      " 47  relationship_Other-relative           39429 non-null  uint8\n",
      " 48  relationship_Own-child                39429 non-null  uint8\n",
      " 49  relationship_Unmarried                39429 non-null  uint8\n",
      " 50  relationship_Wife                     39429 non-null  uint8\n",
      " 51  race_Amer-Indian-Eskimo               39429 non-null  uint8\n",
      " 52  race_Asian-Pac-Islander               39429 non-null  uint8\n",
      " 53  race_Black                            39429 non-null  uint8\n",
      " 54  race_Other                            39429 non-null  uint8\n",
      " 55  race_White                            39429 non-null  uint8\n",
      " 56  gender_Female                         39429 non-null  uint8\n",
      " 57  gender_Male                           39429 non-null  uint8\n",
      " 58  age                                   39429 non-null  int64\n",
      " 59  fnlwgt                                39429 non-null  int64\n",
      " 60  educational-num                       39429 non-null  int64\n",
      " 61  capital-gain                          39429 non-null  int64\n",
      " 62  capital-loss                          39429 non-null  int64\n",
      " 63  hours-per-week                        39429 non-null  int64\n",
      " 64  income_>50K                           39429 non-null  int64\n",
      "dtypes: int64(7), uint8(58)\n",
      "memory usage: 4.6 MB\n"
     ]
    }
   ],
   "source": [
    "final_df.info()"
   ]
  },
  {
   "cell_type": "code",
   "execution_count": 22,
   "metadata": {
    "execution": {
     "iopub.execute_input": "2020-10-23T17:08:39.764874Z",
     "iopub.status.busy": "2020-10-23T17:08:39.764012Z",
     "iopub.status.idle": "2020-10-23T17:08:39.775717Z",
     "shell.execute_reply": "2020-10-23T17:08:39.774949Z"
    },
    "papermill": {
     "duration": 0.080204,
     "end_time": "2020-10-23T17:08:39.775848",
     "exception": false,
     "start_time": "2020-10-23T17:08:39.695644",
     "status": "completed"
    },
    "tags": []
   },
   "outputs": [
    {
     "data": {
      "text/plain": [
       "0"
      ]
     },
     "execution_count": 22,
     "metadata": {},
     "output_type": "execute_result"
    }
   ],
   "source": [
    "final_df.isna().sum().sum()"
   ]
  },
  {
   "cell_type": "markdown",
   "metadata": {},
   "source": [
    "### KNN Classifier"
   ]
  },
  {
   "cell_type": "code",
   "execution_count": 35,
   "metadata": {
    "execution": {
     "iopub.execute_input": "2020-10-23T17:08:39.915958Z",
     "iopub.status.busy": "2020-10-23T17:08:39.915102Z",
     "iopub.status.idle": "2020-10-23T17:08:40.067973Z",
     "shell.execute_reply": "2020-10-23T17:08:40.068626Z"
    },
    "papermill": {
     "duration": 0.229186,
     "end_time": "2020-10-23T17:08:40.068830",
     "exception": false,
     "start_time": "2020-10-23T17:08:39.839644",
     "status": "completed"
    },
    "tags": []
   },
   "outputs": [
    {
     "name": "stdout",
     "output_type": "stream",
     "text": [
      "(31543, 64)\n",
      "(7886, 64)\n"
     ]
    }
   ],
   "source": [
    "from sklearn.model_selection import train_test_split \n",
    "X = final_df.drop('income_>50K', axis =1)\n",
    "y = final_df['income_>50K']\n",
    "X_train, X_test, y_train, y_test = train_test_split( X,y , test_size = 0.2, random_state = 42, stratify=y) \n",
    "print(X_train.shape)\n",
    "print(X_test.shape)"
   ]
  },
  {
   "cell_type": "code",
   "execution_count": 36,
   "metadata": {},
   "outputs": [
    {
     "data": {
      "text/plain": [
       "KNeighborsClassifier(n_neighbors=9)"
      ]
     },
     "execution_count": 36,
     "metadata": {},
     "output_type": "execute_result"
    }
   ],
   "source": [
    "from sklearn.neighbors import KNeighborsClassifier\n",
    "knn = KNeighborsClassifier(n_neighbors=9)\n",
    "knn.fit(X_train, y_train)"
   ]
  },
  {
   "cell_type": "code",
   "execution_count": 37,
   "metadata": {},
   "outputs": [
    {
     "data": {
      "text/plain": [
       "0.7843012934313974"
      ]
     },
     "execution_count": 37,
     "metadata": {},
     "output_type": "execute_result"
    }
   ],
   "source": [
    "prediction = knn.predict(X_test)\n",
    "accuracy = knn.score(X_test, y_test)\n",
    "accuracy"
   ]
  },
  {
   "cell_type": "code",
   "execution_count": 25,
   "metadata": {},
   "outputs": [
    {
     "data": {
      "text/plain": [
       "[<matplotlib.lines.Line2D at 0x1dd02c9b760>]"
      ]
     },
     "execution_count": 25,
     "metadata": {},
     "output_type": "execute_result"
    },
    {
     "data": {
      "image/png": "[encoded data removed]",
      "text/plain": [
       "<Figure size 432x288 with 1 Axes>"
      ]
     },
     "metadata": {
      "needs_background": "light"
     },
     "output_type": "display_data"
    }
   ],
   "source": [
    "from sklearn.neighbors import KNeighborsClassifier\n",
    "neighbors = np.arange(1,9)\n",
    "train_accuracy = np.empty(len(neighbors))\n",
    "test_accuracy = np.empty(len(neighbors))\n",
    "for i, k in enumerate(neighbors):\n",
    "    knn = KNeighborsClassifier(n_neighbors=k)\n",
    "    knn.fit(X_train, y_train)\n",
    "    train_accuracy[i] = knn.score(X_train, y_train)\n",
    "    test_accuracy[i] = knn.score(X_test, y_test)\n",
    "    \n",
    "plt.plot(neighbors, test_accuracy, label = 'Testing Accuracy')\n",
    "plt.plot(neighbors, train_accuracy, label = 'Training Accuracy')\n"
   ]
  },
  {
   "cell_type": "code",
   "execution_count": 30,
   "metadata": {},
   "outputs": [],
   "source": [
    "from sklearn.model_selection import cross_val_score"
   ]
  },
  {
   "cell_type": "code",
   "execution_count": 32,
   "metadata": {},
   "outputs": [
    {
     "data": {
      "text/plain": [
       "array([0.78316003, 0.7862034 , 0.78468171, 0.7844281 , 0.78211795])"
      ]
     },
     "execution_count": 32,
     "metadata": {},
     "output_type": "execute_result"
    }
   ],
   "source": [
    "cv_results = cross_val_score(knn, X, y, cv=5)\n",
    "cv_results"
   ]
  },
  {
   "cell_type": "code",
   "execution_count": 33,
   "metadata": {},
   "outputs": [
    {
     "data": {
      "text/plain": [
       "0.7841182378378256"
      ]
     },
     "execution_count": 33,
     "metadata": {},
     "output_type": "execute_result"
    }
   ],
   "source": [
    "cv_results.mean()"
   ]
  },
  {
   "cell_type": "code",
   "execution_count": 34,
   "metadata": {},
   "outputs": [],
   "source": [
    "from sklearn.metrics import confusion_matrix"
   ]
  },
  {
   "cell_type": "code",
   "execution_count": 38,
   "metadata": {},
   "outputs": [],
   "source": [
    "con = confusion_matrix(y_test, prediction)"
   ]
  },
  {
   "cell_type": "code",
   "execution_count": 39,
   "metadata": {
    "scrolled": true
   },
   "outputs": [
    {
     "data": {
      "text/plain": [
       "array([[5668,  290],\n",
       "       [1411,  517]], dtype=int64)"
      ]
     },
     "execution_count": 39,
     "metadata": {},
     "output_type": "execute_result"
    }
   ],
   "source": [
    "con"
   ]
  },
  {
   "cell_type": "code",
   "execution_count": null,
   "metadata": {},
   "outputs": [],
   "source": []
  },
  {
   "cell_type": "code",
   "execution_count": 41,
   "metadata": {},
   "outputs": [
    {
     "name": "stdout",
     "output_type": "stream",
     "text": [
      "accuracy is: 0.7843012934313974\n"
     ]
    }
   ],
   "source": [
    "print(f\"accuracy is: {(5668+517)/(5668+290+1411+517)}\")"
   ]
  },
  {
   "cell_type": "code",
   "execution_count": 43,
   "metadata": {},
   "outputs": [
    {
     "name": "stdout",
     "output_type": "stream",
     "text": [
      "percision is: 0.8006780618731459\n"
     ]
    }
   ],
   "source": [
    "print(f\"percision is: {5668/(5668+1411)}\")"
   ]
  },
  {
   "cell_type": "code",
   "execution_count": null,
   "metadata": {},
   "outputs": [],
   "source": []
  },
  {
   "cell_type": "code",
   "execution_count": null,
   "metadata": {
    "execution": {
     "iopub.execute_input": "2020-10-23T17:08:40.204180Z",
     "iopub.status.busy": "2020-10-23T17:08:40.203336Z",
     "iopub.status.idle": "2020-10-23T17:08:40.714215Z",
     "shell.execute_reply": "2020-10-23T17:08:40.714854Z"
    },
    "papermill": {
     "duration": 0.581237,
     "end_time": "2020-10-23T17:08:40.715021",
     "exception": false,
     "start_time": "2020-10-23T17:08:40.133784",
     "status": "completed"
    },
    "tags": []
   },
   "outputs": [],
   "source": [
    "# Training using Decision Tree Classifier \n",
    "\n",
    "from sklearn.tree import DecisionTreeClassifier  \n",
    "classifier1 = DecisionTreeClassifier(criterion='gini')  \n",
    "classifier1.fit(X_train, y_train) \n",
    "\n"
   ]
  },
  {
   "cell_type": "code",
   "execution_count": null,
   "metadata": {
    "execution": {
     "iopub.execute_input": "2020-10-23T17:08:40.854110Z",
     "iopub.status.busy": "2020-10-23T17:08:40.853287Z",
     "iopub.status.idle": "2020-10-23T17:08:40.866533Z",
     "shell.execute_reply": "2020-10-23T17:08:40.865723Z"
    },
    "papermill": {
     "duration": 0.085858,
     "end_time": "2020-10-23T17:08:40.866695",
     "exception": false,
     "start_time": "2020-10-23T17:08:40.780837",
     "status": "completed"
    },
    "tags": []
   },
   "outputs": [],
   "source": [
    "\n",
    "y_pred_1 = classifier1.predict(X_test)  \n",
    "print(y_pred_1)"
   ]
  },
  {
   "cell_type": "code",
   "execution_count": null,
   "metadata": {
    "execution": {
     "iopub.execute_input": "2020-10-23T17:08:41.006092Z",
     "iopub.status.busy": "2020-10-23T17:08:41.005047Z",
     "iopub.status.idle": "2020-10-23T17:08:41.032206Z",
     "shell.execute_reply": "2020-10-23T17:08:41.033369Z"
    },
    "papermill": {
     "duration": 0.101322,
     "end_time": "2020-10-23T17:08:41.033610",
     "exception": false,
     "start_time": "2020-10-23T17:08:40.932288",
     "status": "completed"
    },
    "tags": []
   },
   "outputs": [],
   "source": [
    "from sklearn.metrics import accuracy_score #importing accuracy_score function from sklearn.metrics package\n",
    "acc_1 = accuracy_score(y_test,y_pred_1)\n",
    "print(\"Accuracy for Gini model {} %\".format(acc_1*100))\n",
    "\n",
    "from sklearn.metrics import classification_report, confusion_matrix  \n",
    "print(confusion_matrix(y_test, y_pred_1))"
   ]
  },
  {
   "cell_type": "code",
   "execution_count": null,
   "metadata": {
    "execution": {
     "iopub.execute_input": "2020-10-23T17:08:41.174990Z",
     "iopub.status.busy": "2020-10-23T17:08:41.174006Z",
     "iopub.status.idle": "2020-10-23T17:08:41.177527Z",
     "shell.execute_reply": "2020-10-23T17:08:41.178132Z"
    },
    "papermill": {
     "duration": 0.078403,
     "end_time": "2020-10-23T17:08:41.178287",
     "exception": false,
     "start_time": "2020-10-23T17:08:41.099884",
     "status": "completed"
    },
    "tags": []
   },
   "outputs": [],
   "source": [
    "## [[8760 1306]\n",
    "##  [1141 1981]]\n",
    "\n",
    "\n",
    "# 8760 -->  people having less $50 k  - rightly predicted  # True Negative  ( target ==0 )\n",
    "# 1981 -->  people having more $50 k  - rightly predicted  # True Positive  ( target ==1 )\n",
    "\n",
    "# 1306 -->  people having less $50 k  - model say - they have more than $50K # False Positive \n",
    "# 1141 -->  people having more $50 k  - model say - they have less than $50K # False Negative\n",
    "\n",
    "accuracy  = (8760 + 1981)/(8760+1306+1141+1981)\n",
    "print(accuracy)\n",
    "\n",
    "# precision  = True Positive / ( True Positive + False Positive)\n",
    "precision = 1981/(1981 +1306)\n",
    "print(precision)\n",
    "\n",
    "# If I predict 10 people have more than $50K salary - then 60% of that \n",
    "#i.e. 6 people will have more than $50K salary\n",
    "\n",
    "# Recall  = True Positive / (True Positive + False Negative)\n",
    "recall = 1981/(1981+1141)\n",
    "print(recall)\n",
    "\n",
    "# That model will catch 63% of people who have salary more than $50K \n"
   ]
  },
  {
   "cell_type": "code",
   "execution_count": null,
   "metadata": {
    "execution": {
     "iopub.execute_input": "2020-10-23T17:08:41.323772Z",
     "iopub.status.busy": "2020-10-23T17:08:41.322375Z",
     "iopub.status.idle": "2020-10-23T17:08:43.146533Z",
     "shell.execute_reply": "2020-10-23T17:08:43.147630Z"
    },
    "papermill": {
     "duration": 1.902096,
     "end_time": "2020-10-23T17:08:43.147887",
     "exception": false,
     "start_time": "2020-10-23T17:08:41.245791",
     "status": "completed"
    },
    "tags": []
   },
   "outputs": [],
   "source": [
    "from sklearn.neighbors import KNeighborsClassifier\n",
    "\n",
    "\n",
    "classifier2 = KNeighborsClassifier(n_neighbors= 3)  \n",
    "classifier2.fit(X_train, y_train) \n",
    "\n",
    "y_pred_2 = classifier2.predict(X_test)  \n",
    "\n",
    "acc_2 = accuracy_score(y_test,y_pred_2)\n",
    "print(\"Accuracy for KNN model {} %\".format(acc_2*100))\n",
    "print(confusion_matrix(y_test, y_pred_2))"
   ]
  },
  {
   "cell_type": "code",
   "execution_count": null,
   "metadata": {
    "execution": {
     "iopub.execute_input": "2020-10-23T17:08:43.300496Z",
     "iopub.status.busy": "2020-10-23T17:08:43.299647Z",
     "iopub.status.idle": "2020-10-23T17:08:43.645365Z",
     "shell.execute_reply": "2020-10-23T17:08:43.644536Z"
    },
    "papermill": {
     "duration": 0.423207,
     "end_time": "2020-10-23T17:08:43.645497",
     "exception": false,
     "start_time": "2020-10-23T17:08:43.222290",
     "status": "completed"
    },
    "tags": []
   },
   "outputs": [],
   "source": [
    "from sklearn.linear_model import LogisticRegression\n",
    "classifier3 = LogisticRegression(random_state=0)\n",
    "classifier3.fit(X_train, y_train) \n",
    "\n",
    "y_pred_3 = classifier3.predict(X_test)  \n",
    "\n",
    "acc_3 = accuracy_score(y_test,y_pred_3)\n",
    "print(\"Accuracy for LR model {} %\".format(acc_3*100))\n",
    "print(confusion_matrix(y_test, y_pred_3))"
   ]
  },
  {
   "cell_type": "code",
   "execution_count": null,
   "metadata": {
    "execution": {
     "iopub.execute_input": "2020-10-23T17:08:43.792765Z",
     "iopub.status.busy": "2020-10-23T17:08:43.790987Z",
     "iopub.status.idle": "2020-10-23T17:08:49.476154Z",
     "shell.execute_reply": "2020-10-23T17:08:49.475324Z"
    },
    "papermill": {
     "duration": 5.762867,
     "end_time": "2020-10-23T17:08:49.476322",
     "exception": false,
     "start_time": "2020-10-23T17:08:43.713455",
     "status": "completed"
    },
    "tags": []
   },
   "outputs": [],
   "source": [
    "from sklearn.ensemble import GradientBoostingClassifier  \n",
    "\n",
    "classifier4 = GradientBoostingClassifier()  \n",
    "classifier4.fit(X_train, y_train) \n",
    "\n",
    "y_pred_4 = classifier4.predict(X_test)  \n",
    "\n",
    "acc_4 = accuracy_score(y_test,y_pred_4)\n",
    "print(\"Accuracy for Gradient Boost model {} %\".format(acc_4*100))\n",
    "print(confusion_matrix(y_test, y_pred_4))"
   ]
  },
  {
   "cell_type": "code",
   "execution_count": null,
   "metadata": {
    "execution": {
     "iopub.execute_input": "2020-10-23T17:08:49.625006Z",
     "iopub.status.busy": "2020-10-23T17:08:49.624237Z",
     "iopub.status.idle": "2020-10-23T17:08:54.704996Z",
     "shell.execute_reply": "2020-10-23T17:08:54.705901Z"
    },
    "papermill": {
     "duration": 5.160679,
     "end_time": "2020-10-23T17:08:54.706163",
     "exception": false,
     "start_time": "2020-10-23T17:08:49.545484",
     "status": "completed"
    },
    "tags": []
   },
   "outputs": [],
   "source": [
    "from sklearn.ensemble import RandomForestClassifier  \n",
    "\n",
    "classifier5 = RandomForestClassifier()  \n",
    "classifier5.fit(X_train, y_train) \n",
    "\n",
    "y_pred_5 = classifier5.predict(X_test)  \n",
    "\n",
    "acc_5 = accuracy_score(y_test,y_pred_5)\n",
    "print(\"Accuracy for Random Forest model {} %\".format(acc_5*100))\n",
    "print(confusion_matrix(y_test, y_pred_5))"
   ]
  },
  {
   "cell_type": "code",
   "execution_count": null,
   "metadata": {
    "execution": {
     "iopub.execute_input": "2020-10-23T17:08:54.864632Z",
     "iopub.status.busy": "2020-10-23T17:08:54.862896Z",
     "iopub.status.idle": "2020-10-23T17:08:54.931059Z",
     "shell.execute_reply": "2020-10-23T17:08:54.931921Z"
    },
    "papermill": {
     "duration": 0.154565,
     "end_time": "2020-10-23T17:08:54.932168",
     "exception": false,
     "start_time": "2020-10-23T17:08:54.777603",
     "status": "completed"
    },
    "tags": []
   },
   "outputs": [],
   "source": [
    "# Lets create a manual ensemble \n",
    "from sklearn.metrics import f1_score\n",
    "\n",
    "ensemble_df = pd.DataFrame()\n",
    "ensemble_df['Pred1'] = y_pred_1\n",
    "ensemble_df['Pred2'] = y_pred_2\n",
    "ensemble_df['Pred3'] = y_pred_3\n",
    "ensemble_df['Pred4'] = y_pred_4\n",
    "ensemble_df['Pred5'] = y_pred_5\n",
    "ensemble_df['Sum'] = ensemble_df.sum(axis = 1)\n",
    "ensemble_df['Final'] = ensemble_df['Sum'] > 2 \n",
    "ensemble_df['Final'] = ensemble_df['Final'].astype(int)\n",
    "\n",
    "print(ensemble_df.head())\n",
    "\n",
    "acc = accuracy_score(y_test,ensemble_df['Final'])\n",
    "print(\"Accuracy for Emsemble model {} %\".format(acc*100))\n",
    "print(confusion_matrix(y_test,ensemble_df['Final']))\n",
    "print('f1 Score -->' ,f1_score(y_test,ensemble_df['Final']))"
   ]
  },
  {
   "cell_type": "code",
   "execution_count": null,
   "metadata": {
    "execution": {
     "iopub.execute_input": "2020-10-23T17:08:55.104233Z",
     "iopub.status.busy": "2020-10-23T17:08:55.102196Z",
     "iopub.status.idle": "2020-10-23T17:08:55.147653Z",
     "shell.execute_reply": "2020-10-23T17:08:55.148418Z"
    },
    "papermill": {
     "duration": 0.13581,
     "end_time": "2020-10-23T17:08:55.148629",
     "exception": false,
     "start_time": "2020-10-23T17:08:55.012819",
     "status": "completed"
    },
    "tags": []
   },
   "outputs": [],
   "source": [
    "# Lets create a manual ensemble with weighted average\n",
    "\n",
    "ensemble_df = pd.DataFrame()\n",
    "ensemble_df['Pred1'] = y_pred_1\n",
    "ensemble_df['Pred2'] = y_pred_2\n",
    "ensemble_df['Pred3'] = y_pred_3\n",
    "ensemble_df['Pred4'] = y_pred_4\n",
    "ensemble_df['Pred5'] = y_pred_5\n",
    "# DT 10% , KNN 5%  LR 5%  GB 40% RF 40 % \n",
    "\n",
    "ensemble_df['Sum'] = 0.1*ensemble_df['Pred1'] + 0.05*ensemble_df['Pred2'] + \\\n",
    "                     0.05*ensemble_df['Pred3'] + 0.4*ensemble_df['Pred4'] + \\\n",
    "                     0.4*ensemble_df['Pred5']\n",
    "ensemble_df['Final'] = ensemble_df['Sum'] >= 0.4\n",
    "ensemble_df['Final'] = ensemble_df['Final'].astype(int)\n",
    "\n",
    "print(ensemble_df.head())\n",
    "\n",
    "acc = accuracy_score(y_test,ensemble_df['Final'])\n",
    "print(\"Accuracy for Emsemble model {} %\".format(acc*100))\n",
    "print(confusion_matrix(y_test,ensemble_df['Final']))\n",
    "print('f1 Score -->' ,f1_score(y_test,ensemble_df['Final']))"
   ]
  },
  {
   "cell_type": "markdown",
   "metadata": {
    "papermill": {
     "duration": 0.070096,
     "end_time": "2020-10-23T17:08:55.290358",
     "exception": false,
     "start_time": "2020-10-23T17:08:55.220262",
     "status": "completed"
    },
    "tags": []
   },
   "source": [
    "## Hyper Parameter Tuning of Decision Tree"
   ]
  },
  {
   "cell_type": "code",
   "execution_count": null,
   "metadata": {
    "execution": {
     "iopub.execute_input": "2020-10-23T17:08:55.438139Z",
     "iopub.status.busy": "2020-10-23T17:08:55.436977Z",
     "iopub.status.idle": "2020-10-23T17:08:55.440275Z",
     "shell.execute_reply": "2020-10-23T17:08:55.439628Z"
    },
    "papermill": {
     "duration": 0.079249,
     "end_time": "2020-10-23T17:08:55.440407",
     "exception": false,
     "start_time": "2020-10-23T17:08:55.361158",
     "status": "completed"
    },
    "tags": []
   },
   "outputs": [],
   "source": [
    "from sklearn.model_selection import GridSearchCV"
   ]
  },
  {
   "cell_type": "markdown",
   "metadata": {
    "papermill": {
     "duration": 0.070659,
     "end_time": "2020-10-23T17:08:55.581321",
     "exception": false,
     "start_time": "2020-10-23T17:08:55.510662",
     "status": "completed"
    },
    "tags": []
   },
   "source": [
    "## base model & parameter grid"
   ]
  },
  {
   "cell_type": "code",
   "execution_count": null,
   "metadata": {
    "execution": {
     "iopub.execute_input": "2020-10-23T17:08:55.728867Z",
     "iopub.status.busy": "2020-10-23T17:08:55.727868Z",
     "iopub.status.idle": "2020-10-23T17:08:55.731229Z",
     "shell.execute_reply": "2020-10-23T17:08:55.730464Z"
    },
    "papermill": {
     "duration": 0.079418,
     "end_time": "2020-10-23T17:08:55.731355",
     "exception": false,
     "start_time": "2020-10-23T17:08:55.651937",
     "status": "completed"
    },
    "tags": []
   },
   "outputs": [],
   "source": [
    "# Base model \n",
    "g1 = DecisionTreeClassifier()\n",
    "\n",
    "param_grid = { \n",
    "    'criterion': ['gini', 'entropy'],\n",
    "    'max_depth': [5,10,15,20,25]\n",
    "}\n",
    "\n"
   ]
  },
  {
   "cell_type": "markdown",
   "metadata": {
    "papermill": {
     "duration": 0.069866,
     "end_time": "2020-10-23T17:08:55.872444",
     "exception": false,
     "start_time": "2020-10-23T17:08:55.802578",
     "status": "completed"
    },
    "tags": []
   },
   "source": [
    "## Initiate Grid Search "
   ]
  },
  {
   "cell_type": "code",
   "execution_count": null,
   "metadata": {
    "execution": {
     "iopub.execute_input": "2020-10-23T17:08:56.021483Z",
     "iopub.status.busy": "2020-10-23T17:08:56.020241Z",
     "iopub.status.idle": "2020-10-23T17:09:06.320638Z",
     "shell.execute_reply": "2020-10-23T17:09:06.319764Z"
    },
    "papermill": {
     "duration": 10.378159,
     "end_time": "2020-10-23T17:09:06.320797",
     "exception": false,
     "start_time": "2020-10-23T17:08:55.942638",
     "status": "completed"
    },
    "tags": []
   },
   "outputs": [],
   "source": [
    "%%time \n",
    "gs1 = GridSearchCV(estimator=g1, param_grid=param_grid, cv= 5, verbose = 3)\n",
    "gs1.fit(X_train, y_train) "
   ]
  },
  {
   "cell_type": "markdown",
   "metadata": {
    "papermill": {
     "duration": 0.088579,
     "end_time": "2020-10-23T17:09:06.499506",
     "exception": false,
     "start_time": "2020-10-23T17:09:06.410927",
     "status": "completed"
    },
    "tags": []
   },
   "source": [
    "## Best Parameters"
   ]
  },
  {
   "cell_type": "code",
   "execution_count": null,
   "metadata": {
    "execution": {
     "iopub.execute_input": "2020-10-23T17:09:06.739649Z",
     "iopub.status.busy": "2020-10-23T17:09:06.738626Z",
     "iopub.status.idle": "2020-10-23T17:09:06.744639Z",
     "shell.execute_reply": "2020-10-23T17:09:06.743851Z"
    },
    "papermill": {
     "duration": 0.100711,
     "end_time": "2020-10-23T17:09:06.744796",
     "exception": false,
     "start_time": "2020-10-23T17:09:06.644085",
     "status": "completed"
    },
    "tags": []
   },
   "outputs": [],
   "source": [
    "gs1.best_params_"
   ]
  },
  {
   "cell_type": "markdown",
   "metadata": {
    "papermill": {
     "duration": 0.089973,
     "end_time": "2020-10-23T17:09:06.925995",
     "exception": false,
     "start_time": "2020-10-23T17:09:06.836022",
     "status": "completed"
    },
    "tags": []
   },
   "source": [
    "## Best Model "
   ]
  },
  {
   "cell_type": "code",
   "execution_count": null,
   "metadata": {
    "execution": {
     "iopub.execute_input": "2020-10-23T17:09:07.118942Z",
     "iopub.status.busy": "2020-10-23T17:09:07.118020Z",
     "iopub.status.idle": "2020-10-23T17:09:07.150432Z",
     "shell.execute_reply": "2020-10-23T17:09:07.149426Z"
    },
    "papermill": {
     "duration": 0.134273,
     "end_time": "2020-10-23T17:09:07.150591",
     "exception": false,
     "start_time": "2020-10-23T17:09:07.016318",
     "status": "completed"
    },
    "tags": []
   },
   "outputs": [],
   "source": [
    "best_model_1 = gs1.best_estimator_\n",
    "\n",
    "y1 = best_model_1.predict(X_test)  \n",
    "\n",
    "acc = accuracy_score(y_test,y1)\n",
    "print(\"Accuracy for Grid Search DT  model {} %\".format(acc*100))\n",
    "\n",
    "\n",
    "print(confusion_matrix(y_test, y1))"
   ]
  },
  {
   "cell_type": "markdown",
   "metadata": {
    "papermill": {
     "duration": 0.090794,
     "end_time": "2020-10-23T17:09:07.333714",
     "exception": false,
     "start_time": "2020-10-23T17:09:07.242920",
     "status": "completed"
    },
    "tags": []
   },
   "source": [
    "## Hyper Parameter Tuning RandomForest "
   ]
  },
  {
   "cell_type": "code",
   "execution_count": null,
   "metadata": {
    "execution": {
     "iopub.execute_input": "2020-10-23T17:09:07.525043Z",
     "iopub.status.busy": "2020-10-23T17:09:07.524011Z",
     "iopub.status.idle": "2020-10-23T17:09:07.527954Z",
     "shell.execute_reply": "2020-10-23T17:09:07.527178Z"
    },
    "papermill": {
     "duration": 0.102469,
     "end_time": "2020-10-23T17:09:07.528088",
     "exception": false,
     "start_time": "2020-10-23T17:09:07.425619",
     "status": "completed"
    },
    "tags": []
   },
   "outputs": [],
   "source": [
    "# Base model \n",
    "g2 = RandomForestClassifier()\n",
    "\n",
    "param_grid = { \n",
    "    'criterion': ['gini', 'entropy'],\n",
    "    'n_estimators': [50,100,200],\n",
    "    'max_depth': [5,10,15],\n",
    "    'max_features': ['auto', 'sqrt', ]\n",
    "}\n",
    "\n"
   ]
  },
  {
   "cell_type": "code",
   "execution_count": null,
   "metadata": {
    "execution": {
     "iopub.execute_input": "2020-10-23T17:09:07.720128Z",
     "iopub.status.busy": "2020-10-23T17:09:07.719033Z",
     "iopub.status.idle": "2020-10-23T17:16:48.351603Z",
     "shell.execute_reply": "2020-10-23T17:16:48.350892Z"
    },
    "papermill": {
     "duration": 460.733006,
     "end_time": "2020-10-23T17:16:48.351763",
     "exception": false,
     "start_time": "2020-10-23T17:09:07.618757",
     "status": "completed"
    },
    "tags": []
   },
   "outputs": [],
   "source": [
    "%%time \n",
    "gs2 = GridSearchCV(estimator=g2, param_grid=param_grid, cv= 5, verbose = 3)\n",
    "gs2.fit(X_train, y_train) "
   ]
  },
  {
   "cell_type": "code",
   "execution_count": null,
   "metadata": {
    "execution": {
     "iopub.execute_input": "2020-10-23T17:16:48.686020Z",
     "iopub.status.busy": "2020-10-23T17:16:48.685085Z",
     "iopub.status.idle": "2020-10-23T17:16:48.689812Z",
     "shell.execute_reply": "2020-10-23T17:16:48.689046Z"
    },
    "papermill": {
     "duration": 0.173942,
     "end_time": "2020-10-23T17:16:48.689944",
     "exception": false,
     "start_time": "2020-10-23T17:16:48.516002",
     "status": "completed"
    },
    "tags": []
   },
   "outputs": [],
   "source": [
    "gs2.best_params_"
   ]
  },
  {
   "cell_type": "code",
   "execution_count": null,
   "metadata": {
    "execution": {
     "iopub.execute_input": "2020-10-23T17:16:49.033940Z",
     "iopub.status.busy": "2020-10-23T17:16:49.033081Z",
     "iopub.status.idle": "2020-10-23T17:16:49.523242Z",
     "shell.execute_reply": "2020-10-23T17:16:49.523982Z"
    },
    "papermill": {
     "duration": 0.665387,
     "end_time": "2020-10-23T17:16:49.524151",
     "exception": false,
     "start_time": "2020-10-23T17:16:48.858764",
     "status": "completed"
    },
    "tags": []
   },
   "outputs": [],
   "source": [
    "best_model_2 = gs2.best_estimator_\n",
    "\n",
    "y2 = best_model_2.predict(X_test)  \n",
    "\n",
    "acc = accuracy_score(y_test,y2)\n",
    "print(\"Accuracy for Grid Search RF  model {} %\".format(acc*100))\n",
    "\n",
    "\n",
    "print(confusion_matrix(y_test, y2))"
   ]
  },
  {
   "cell_type": "markdown",
   "metadata": {
    "papermill": {
     "duration": 0.173191,
     "end_time": "2020-10-23T17:16:49.861632",
     "exception": false,
     "start_time": "2020-10-23T17:16:49.688441",
     "status": "completed"
    },
    "tags": []
   },
   "source": [
    "## Hyper Parameter Tuning of Gradient Boosting"
   ]
  },
  {
   "cell_type": "code",
   "execution_count": null,
   "metadata": {
    "execution": {
     "iopub.execute_input": "2020-10-23T17:16:50.205888Z",
     "iopub.status.busy": "2020-10-23T17:16:50.204918Z",
     "iopub.status.idle": "2020-10-23T17:16:50.208081Z",
     "shell.execute_reply": "2020-10-23T17:16:50.207313Z"
    },
    "papermill": {
     "duration": 0.179121,
     "end_time": "2020-10-23T17:16:50.208221",
     "exception": false,
     "start_time": "2020-10-23T17:16:50.029100",
     "status": "completed"
    },
    "tags": []
   },
   "outputs": [],
   "source": [
    "# Base model \n",
    "g3 = GradientBoostingClassifier()\n",
    "\n",
    "param_grid = { \n",
    "    'n_estimators': [50,100,200],\n",
    "    'max_depth': [5,10,15],\n",
    "}\n",
    "\n"
   ]
  },
  {
   "cell_type": "code",
   "execution_count": null,
   "metadata": {
    "execution": {
     "iopub.execute_input": "2020-10-23T17:16:50.548081Z",
     "iopub.status.busy": "2020-10-23T17:16:50.547303Z",
     "iopub.status.idle": "2020-10-23T17:32:35.701700Z",
     "shell.execute_reply": "2020-10-23T17:32:35.700876Z"
    },
    "papermill": {
     "duration": 945.326977,
     "end_time": "2020-10-23T17:32:35.701846",
     "exception": false,
     "start_time": "2020-10-23T17:16:50.374869",
     "status": "completed"
    },
    "tags": []
   },
   "outputs": [],
   "source": [
    "%%time \n",
    "gs3 = GridSearchCV(estimator=g3, param_grid=param_grid, cv= 5, verbose = 3)\n",
    "gs3.fit(X_train, y_train) "
   ]
  },
  {
   "cell_type": "code",
   "execution_count": null,
   "metadata": {
    "execution": {
     "iopub.execute_input": "2020-10-23T17:32:36.084232Z",
     "iopub.status.busy": "2020-10-23T17:32:36.083393Z",
     "iopub.status.idle": "2020-10-23T17:32:36.087848Z",
     "shell.execute_reply": "2020-10-23T17:32:36.088563Z"
    },
    "papermill": {
     "duration": 0.197783,
     "end_time": "2020-10-23T17:32:36.088764",
     "exception": false,
     "start_time": "2020-10-23T17:32:35.890981",
     "status": "completed"
    },
    "tags": []
   },
   "outputs": [],
   "source": [
    "gs3.best_params_"
   ]
  },
  {
   "cell_type": "code",
   "execution_count": null,
   "metadata": {
    "execution": {
     "iopub.execute_input": "2020-10-23T17:32:36.475249Z",
     "iopub.status.busy": "2020-10-23T17:32:36.474173Z",
     "iopub.status.idle": "2020-10-23T17:32:36.560454Z",
     "shell.execute_reply": "2020-10-23T17:32:36.559824Z"
    },
    "papermill": {
     "duration": 0.282947,
     "end_time": "2020-10-23T17:32:36.560586",
     "exception": false,
     "start_time": "2020-10-23T17:32:36.277639",
     "status": "completed"
    },
    "tags": []
   },
   "outputs": [],
   "source": [
    "best_model_3 = gs3.best_estimator_\n",
    "\n",
    "y3 = best_model_3.predict(X_test)  \n",
    "\n",
    "acc = accuracy_score(y_test,y3)\n",
    "print(\"Accuracy for Grid Search Gradient Boosting  model {} %\".format(acc*100))\n",
    "\n",
    "\n",
    "print(confusion_matrix(y_test, y3))"
   ]
  },
  {
   "cell_type": "code",
   "execution_count": null,
   "metadata": {
    "execution": {
     "iopub.execute_input": "2020-10-23T17:32:36.985213Z",
     "iopub.status.busy": "2020-10-23T17:32:36.984381Z",
     "iopub.status.idle": "2020-10-23T17:32:36.987529Z",
     "shell.execute_reply": "2020-10-23T17:32:36.986758Z"
    },
    "papermill": {
     "duration": 0.237226,
     "end_time": "2020-10-23T17:32:36.987659",
     "exception": false,
     "start_time": "2020-10-23T17:32:36.750433",
     "status": "completed"
    },
    "tags": []
   },
   "outputs": [],
   "source": [
    "# # Implementation of SVM \n",
    "\n",
    "# from sklearn.svm import SVC\n",
    "# svc_clf = SVC(C= 1.0 , kernel='poly')\n",
    "\n",
    "# svc_clf.fit(X_train, y_train)\n",
    "# svc_pred = svc_clf.predict(X_test)  \n",
    "\n",
    "# acc_svc = accuracy_score(y_test,svc_pred)\n",
    "# print(\"Accuracy for Support Vector Model {} %\".format(acc_svc*100))\n",
    "# print(confusion_matrix(y_test, svc_pred))"
   ]
  },
  {
   "cell_type": "code",
   "execution_count": null,
   "metadata": {
    "execution": {
     "iopub.execute_input": "2020-10-23T17:32:37.377468Z",
     "iopub.status.busy": "2020-10-23T17:32:37.376552Z",
     "iopub.status.idle": "2020-10-23T17:32:37.434934Z",
     "shell.execute_reply": "2020-10-23T17:32:37.434223Z"
    },
    "papermill": {
     "duration": 0.257082,
     "end_time": "2020-10-23T17:32:37.435064",
     "exception": false,
     "start_time": "2020-10-23T17:32:37.177982",
     "status": "completed"
    },
    "tags": []
   },
   "outputs": [],
   "source": [
    "# Scaling  \n",
    "\n",
    "from sklearn.preprocessing import StandardScaler\n",
    "sc =StandardScaler()\n",
    "\n",
    "sc.fit(X_train)\n",
    "XS_train = sc.transform(X_train)\n",
    "XS_test = sc.transform(X_test)\n",
    "\n"
   ]
  },
  {
   "cell_type": "code",
   "execution_count": null,
   "metadata": {
    "execution": {
     "iopub.execute_input": "2020-10-23T17:32:37.828068Z",
     "iopub.status.busy": "2020-10-23T17:32:37.827097Z",
     "iopub.status.idle": "2020-10-23T17:32:37.832094Z",
     "shell.execute_reply": "2020-10-23T17:32:37.831359Z"
    },
    "papermill": {
     "duration": 0.209747,
     "end_time": "2020-10-23T17:32:37.832229",
     "exception": false,
     "start_time": "2020-10-23T17:32:37.622482",
     "status": "completed"
    },
    "tags": []
   },
   "outputs": [],
   "source": [
    "XS_train"
   ]
  },
  {
   "cell_type": "code",
   "execution_count": null,
   "metadata": {
    "execution": {
     "iopub.execute_input": "2020-10-23T17:32:38.223318Z",
     "iopub.status.busy": "2020-10-23T17:32:38.222075Z",
     "iopub.status.idle": "2020-10-23T17:33:34.261487Z",
     "shell.execute_reply": "2020-10-23T17:33:34.262366Z"
    },
    "papermill": {
     "duration": 56.239295,
     "end_time": "2020-10-23T17:33:34.262587",
     "exception": false,
     "start_time": "2020-10-23T17:32:38.023292",
     "status": "completed"
    },
    "tags": []
   },
   "outputs": [],
   "source": [
    "# Implementation of SVM \n",
    "\n",
    "from sklearn.svm import SVC\n",
    "svc_clf = SVC(C= 1.0 , kernel='poly')\n",
    "\n",
    "svc_clf.fit(XS_train, y_train)\n",
    "svc_pred = svc_clf.predict(XS_test)  \n",
    "\n",
    "acc_svc = accuracy_score(y_test,svc_pred)\n",
    "print(\"Accuracy for Support Vector Model {} %\".format(acc_svc*100))\n",
    "print(confusion_matrix(y_test, svc_pred))"
   ]
  },
  {
   "cell_type": "code",
   "execution_count": null,
   "metadata": {
    "execution": {
     "iopub.execute_input": "2020-10-23T17:33:34.654397Z",
     "iopub.status.busy": "2020-10-23T17:33:34.653565Z",
     "iopub.status.idle": "2020-10-23T17:34:44.671169Z",
     "shell.execute_reply": "2020-10-23T17:34:44.671883Z"
    },
    "papermill": {
     "duration": 70.216977,
     "end_time": "2020-10-23T17:34:44.672064",
     "exception": false,
     "start_time": "2020-10-23T17:33:34.455087",
     "status": "completed"
    },
    "tags": []
   },
   "outputs": [],
   "source": [
    "from sklearn.svm import SVC\n",
    "svc_clf = SVC(C= 1.0 , kernel='rbf')\n",
    "\n",
    "svc_clf.fit(XS_train, y_train)\n",
    "svc_pred = svc_clf.predict(XS_test)  \n",
    "\n",
    "acc_svc = accuracy_score(y_test,svc_pred)\n",
    "print(\"Accuracy for Support Vector Model {} %\".format(acc_svc*100))\n",
    "print(confusion_matrix(y_test, svc_pred))"
   ]
  },
  {
   "cell_type": "code",
   "execution_count": null,
   "metadata": {
    "execution": {
     "iopub.execute_input": "2020-10-23T17:34:45.064527Z",
     "iopub.status.busy": "2020-10-23T17:34:45.063503Z",
     "iopub.status.idle": "2020-10-23T17:34:45.067206Z",
     "shell.execute_reply": "2020-10-23T17:34:45.066585Z"
    },
    "papermill": {
     "duration": 0.202897,
     "end_time": "2020-10-23T17:34:45.067340",
     "exception": false,
     "start_time": "2020-10-23T17:34:44.864443",
     "status": "completed"
    },
    "tags": []
   },
   "outputs": [],
   "source": [
    "# Data set Info  - check missing values \n",
    "# Visulaization  - \n",
    "# Transformation  - Dummies \n",
    "# Test - Train Split \n",
    "# Modeling\n",
    "\n",
    "# R2 and adj R2  "
   ]
  }
 ],
 "metadata": {
  "kernelspec": {
   "display_name": "Python 3",
   "language": "python",
   "name": "python3"
  },
  "language_info": {
   "codemirror_mode": {
    "name": "ipython",
    "version": 3
   },
   "file_extension": ".py",
   "mimetype": "text/x-python",
   "name": "python",
   "nbconvert_exporter": "python",
   "pygments_lexer": "ipython3",
   "version": "3.8.8"
  },
  "papermill": {
   "duration": 1576.783269,
   "end_time": "2020-10-23T17:34:45.375509",
   "environment_variables": {},
   "exception": null,
   "input_path": "__notebook__.ipynb",
   "output_path": "__notebook__.ipynb",
   "parameters": {},
   "start_time": "2020-10-23T17:08:28.592240",
   "version": "2.1.0"
  }
 },
 "nbformat": 4,
 "nbformat_minor": 4
}
